{
 "cells": [
  {
   "cell_type": "code",
   "execution_count": 49,
   "metadata": {
    "collapsed": false
   },
   "outputs": [],
   "source": [
    "import xml.etree.ElementTree as ET\n",
    "import cv2\n",
    "\n",
    "name = \"J1_PROTASE EC CAP\"\n",
    "\n",
    "for i in range(1,73,1):\n",
    "    tree = ET.parse(\"D:\\\\XML\\\\\"+name+\"_back\\\\%d.xml\"%i)\n",
    "    root = tree.getroot()\n",
    "    \n",
    "    image = cv2.imread(\"D:\\\\PIC\\\\\"+name+\"\\\\\"+name+\"_back\\\\%d.jpg\"%i)\n",
    "    cropped = image[int(root[5][4][1].text):int(root[5][4][3].text), int(root[5][4][0].text):int(root[5][4][2].text)]\n",
    "    cv2.imwrite(\"D:\\\\drug_feature_20\\\\\"+name+\"\\\\%d_crop.png\"%i, cropped)"
   ]
  },
  {
   "cell_type": "code",
   "execution_count": 25,
   "metadata": {
    "collapsed": false
   },
   "outputs": [],
   "source": [
    "import os\n",
    "DATA_DIR = \"D:\\\\PIC\"\n",
    "file_folder = []\n",
    "for filename in os.listdir(DATA_DIR):\n",
    "    file_folder.append(filename)\n"
   ]
  },
  {
   "cell_type": "code",
   "execution_count": 31,
   "metadata": {
    "collapsed": false
   },
   "outputs": [
    {
     "name": "stdout",
     "output_type": "stream",
     "text": [
      "274\n",
      "B1_ZEFFIX 100MG (LAMIVUDINE)\n"
     ]
    }
   ],
   "source": [
    "print len(file_folder)\n",
    "print file_folder[0]"
   ]
  },
  {
   "cell_type": "code",
   "execution_count": 34,
   "metadata": {
    "collapsed": false
   },
   "outputs": [],
   "source": [
    "for h in range(0,len(file_folder),1):\n",
    "    name = file_folder[h]\n",
    "    os.makedirs(name)"
   ]
  },
  {
   "cell_type": "code",
   "execution_count": 45,
   "metadata": {
    "collapsed": false
   },
   "outputs": [
    {
     "ename": "ParseError",
     "evalue": "not well-formed (invalid token): line 16, column 15",
     "output_type": "error",
     "traceback": [
      "\u001b[0;36m  File \u001b[0;32m\"<string>\"\u001b[0;36m, line \u001b[0;32munknown\u001b[0m\n\u001b[0;31mParseError\u001b[0m\u001b[0;31m:\u001b[0m not well-formed (invalid token): line 16, column 15\n"
     ]
    }
   ],
   "source": [
    "for h in range(82,len(file_folder),1):\n",
    "    name = file_folder[h]\n",
    "    for i in range(1,73,1):\n",
    "        tree = ET.parse(\"D:\\\\XML\\\\\"+name+\"_back\\\\%d.xml\"%i)\n",
    "        root = tree.getroot()\n",
    "\n",
    "        image = cv2.imread(\"D:\\\\PIC\\\\\"+name+\"\\\\\"+name+\"_back\\\\%d.jpg\"%i)\n",
    "        cropped = image[int(root[5][4][1].text):int(root[5][4][3].text), int(root[5][4][0].text):int(root[5][4][2].text)]\n",
    "        cv2.imwrite(\"D:\\\\all_crop\\\\\"+name+\"\\\\%d_crop.png\"%i, cropped)"
   ]
  },
  {
   "cell_type": "code",
   "execution_count": 46,
   "metadata": {
    "collapsed": false
   },
   "outputs": [
    {
     "name": "stdout",
     "output_type": "stream",
     "text": [
      "150\n"
     ]
    }
   ],
   "source": [
    "print file_folder.index('P1_60MG ACEMETACIN (ACEMET)_60mg')"
   ]
  },
  {
   "cell_type": "code",
   "execution_count": 50,
   "metadata": {
    "collapsed": false
   },
   "outputs": [
    {
     "name": "stdout",
     "output_type": "stream",
     "text": [
      "['B1_ZEFFIX 100MG (LAMIVUDINE)', 'B1_ZIPRASIDONE 40MGCAP (GEODON)', 'B2_(200) QUETIAPINE ER(Seroquel)', 'B2_DIOSMECTITE(SMECTA) POWDER 3G', 'B3_MIRTAZAPINE 30MG OD TAB_30mg', 'B3_RABEPRAZOLE 20MGTAB_20mg', 'B4_Acetylcysteine_200mg', 'B4_NORMACOL plus_7g', 'C1_ACERTIL PLUS 5mg', 'C1_DILTISSER_diltiazem 30', 'C2_DUODART cap_Dutasteride0.5 tamsulosin 0.4', 'C2_LAMICTAL_lamotrigine 50mg', 'C3_CIMETIDINE 300MG_300mg', 'C3_LANSOPRAZOLE OD_30mg', 'C4_ TAMSULOSIN 0.2mg SR cap_0.2mg', 'C4_mgo', 'D1-1_ENTECAVIR 0.5MG (BARACLUDE)', 'D2-1_NOLVADEX_10mg', 'D2-2_GLIMET_glimepiride metformin 2 500', 'D2-3_EASYFOR SR_venlafaxine 75', 'D2-4_SUPERCILLIN_250mg', 'D3-2_60mg Isosorbide mononitrate_60mg', 'D3-3_SerTraLine 50mg (ZOLOFT)_50mg', 'D3-4_CALCIUM ACETATE 667MG_667mg', 'D4-1_Acarbose(glucoBAY)  100MG_100mg', 'D4-2 DIGOXIN 0.25MGLANOXIN_0.25mg', 'D4-3_Glimepiride 2mg tab_2mg', 'DIAMIN', 'E1_RAMIPRIL (TRITACE) 10MG_10mg', 'E2_CozAAr(LoSARTAN) 100MG', 'E3_APROVEL_300mg', 'E3_BLOPRESS_8mg', 'E3_NOBAR_5mg', 'E3_OLMETEC_40mg', 'E4_Azilsartan Medoxomil (EDARBI)_40mg', 'E4_CLOPIDOGREL(THROMBIFREE)75MG_75mg', 'E4_CO-APROVEL 300-12.5_300-12.5', 'E4_CO-DIOVAN_160-12.5', 'E4_LERCANIDIPINE 10MG', 'F1_Amoxicillin875 Clavulanic125_1g', 'F1_CABIDRIN tab', 'F1_PROGOR SR 180MG Cap_180mg', 'F2_CELECOXIB 200MG(CELEBREX)_200mg', 'F2_ETORICOXIB 60MG (ARCOXIA)_60mg', 'F2_FLUVASTATIN XL 80MG_80mg', 'F2_RYTMONORM (PROPAFENONE)_150mg', 'F3_Empagliflozin 25mg FC tab_25mg', 'F3_GALVUS_50mg', 'F3_JANUVIA_100mg', 'F3_ONGLYZA_5mg', 'F3_TRAJENTA_5mg', 'F4_160mg valsartan', 'F4_80MG TELMISARTAN(MICARDIS)', 'F4_CLOPIDOGREL(PLAVIX)75MG', 'F4_EXFORGE HCT(516012.5)', 'G1_MONTELUKAST 10MG(ANXOKAST)', 'G2_NIFEDIPINE 30mg Tab_30mg', 'G3_mephenoxalone_200mg', 'G4_EXforge (5-160)_5-160', 'H1_NABUMETONE(LABUTON)500MG', 'H2_TRAMACET(ACT325Tramadol)', 'H3_NOOPOL_1.2g', 'H4_SILYMARIN150MG_150mg', 'I1_SEVIKAR HCT (20 512.5)', 'I2_esOMEPRAZOLE_40', 'I3_doxaben_4mg', 'I4_STAZYME TAB', 'J1_PROTASE EC CAP', 'J2_MEBEVERINE(DOBECON)_100mg', 'J3_ALGITAB_200mg', 'J4_(6oo)Acetylcysteine EFF_600mg', 'K1_Ribavirin 200mg cap_200mg', 'K2_DEXLANSOPRAZOLE_60mg', 'K3_KONSYL_6g', 'K4_400MG pentoXIFYLLINE(FYLIN)_400mg', 'L1-1_Atorvastatin TULIP_40mg', 'L1-2_amBROXOL (MUSCO)_30mg', 'L1-3_Rivotril(CLONAZEPAM)_0.5mg', 'L1-4_TOLPERISONE(TOPEE)_150mg', 'L1-5_ diclofenac pot. (MEITAN)_25mg', 'L1-6_ALprazolam _0.5mg', 'L1-8_zol\\xa2\\xf8\\xa2\\xf1\\xa2\\xecem 10mg FC tab_10mg', 'L2-1_QUETIAPINE 100MG(Seroquel)_100mg', 'L2-2_Dipyridamole 25mg_25mg', 'L2-3_FUCOUDEXTROMETHORPHAN20_20mg', 'L2-4_FEXOFENADINE 60MG (ALLEGRA)_60mg', 'L2-5_ASPIRIN 100MG(BOKEY)_100mg', 'L2-6_ACETAMINOPHEN 500MG_500mg', 'L2-7_(2) Lorazepam(LARPAM) 2mg_2mg', 'L2-8_FLUDIAZEPAM(FLUPINE) 0.25mg_0.25mg', 'M1_ Metformin 500mg(UFORMIN)_500mg', 'M2_FAMOTIDINE 20mg_20mg', 'M3_STROCAIN', 'M4_IWELL tab', 'M5_ALINAMIN F', 'M6_PROPRANOLOL_10mg', 'M7_Coxine_20mg', 'middle_Radi K_23675', 'N1_KASCOAL_40mg', 'N2_BISO F.C. tab_5mg', 'N2_BISOPROLOL 5MG_5mg', 'N2_COMPESOLON_5mg', 'N4_CLONAZEPAM 2MG (RIVOTRIL)_2mg', 'N5_125MG THEOPHYLLINE_125mg', 'N6_NICAMETATE(SANYL) 50MG_50mg', 'N7_Pentoxifylline 100MG_100mg', 'N8_CACO3(Calcium carbonate 500mg)_500mg', 'N9_BIO-CAL PLUS chewable tab', 'O1_(0.5) Lorazepam(LOWEN) 0.5mg_0.5mg', 'O1_10mg_aRIPIprazole_10mg', 'O1_2mg TRIHEXYPHENIDYL_2mg', 'O1_BROMAZIN (BROMAZEPAM) 3MG_3mg', 'O1_DEANXIT_0.5mg', 'O1_DIAZEPAM 2MG_2mg', 'O1_ESCITALOPRAM OXALATE 10MG_10mg', 'O1_ESTAZOLAM 2MG (ESZO)_2mg', 'O1_IMIPRAMINE 25MG (FRONIL)_25mg', 'O1_SULPIRIDE 200MG (SulPin)_200mg', 'O1_ZOPICLONE 7.5MG(ZOLON)_7.5mg', 'O2_BISACODYL 5MG(Dulcolax)_5mg', 'O2_CONSLIFE SC TAB', 'O2_DOMPERIDONE(NIDOLIUM) 10MG_10mg', 'O2_LOPERAMIDE 2MG(Imolex)_2mg', 'O2_MOSAPRIDE 5MG (MOSAD)_5mg', 'O2_PINAVERIUM BROMIDE 50MG(DICETE)_50mg', 'O2_PROMERAN(METOCLOPRAMIDE)_3.84mg', 'O2_TRANCOLON(MEPENZOLATE)_7.5mg', 'O3_(Seftem)CEFTIBUTEN 100MG_100mg', 'O3_Amoxicillin875_Clavulanic125_1g_box', 'O3_CEPHALEXIN 500MG_500mg', 'O3_Ciprofloxacin 250mg F.C. tab_250mg', 'O3_CLARITHROMYCIN 500MG_500mg', 'O3_CLINDAMYCIN 150MG_150mg', 'O3_CO-TRIMOXAZOLE', 'O3_Etodolac 400mg(Pinton SR)_400mg', 'O3_URSOdeoxycholic acid 100mg', 'O4_5MG OLANZAPINE(ZYPREXA ZYDIS)', 'O4_AGOMELATINE 25MG TAB (VALDOXAN)_25mg', 'O4_AMISULPRIDE 200MG', 'O4_DULOXETINE 30MG (CYMBALTA)', 'O4_haloperidol_0.5', 'O4_MUACTION(TRAMADOL HCI SR TAB)_100', 'O4_NORDAZEPAM (CALMDAY)TAB_5', 'O4_PHENOBARBITAL TAB _30', 'O4_RITALIN 10MG(METHYLPHENIDATE)_10', 'O4_SEROQUELXR(QUETIAPINE)_50', 'O4_TRIAZOLAM(HALCION)_0.25', 'O4_ZAPINE(Clozapine)_100', 'O4_zotepine 50mg tab_50', 'P1_100mg \\xa2\\xe1\\xa2\\xe0 tab Diclofenac_100mg', 'P1_60MG ACEMETACIN (ACEMET)_60mg', 'P1_ALLOPURINOL 100MG_100mg', 'P1_BENZBROMARONE 50MG_50mg', 'P1_COLCHICINE 0.5MG_0.5mg', 'P1_Meloxicam 15mg tab_15mg', 'P1_NAPROXEN (NAPOSIN) 250MG_250mg', 'P1_ROPAL (INF.ASPIRIN) 0.1g_0.1mg', 'P1_TONEC Aceclofenac 100mg Tab_100mg', 'P2(Suzin)Flunarizine 10mg_10mg', 'P2_75MG amBROXOL 75MG_75mg', 'P2_CABIDRIN tab', 'P2_desLORATADINE 5MG_5mg', 'P2_Dextromethorphan 60MG_60mg', 'P2_DIPHENIDOL 25MG_25mg', 'P2_DIPHENIDOL 25MG_25mg_2', 'P2_MERISLON(BETAHISTINE)12MG_12mg', 'P2_Opium and Glycyrrhiza Mix', 'P2_Procaterol 25mcg tab(MECATER)_25mg', 'P2_Pseudoephedrine 120mg(FEDCEN)_120mg', 'P3_aripiprazole_5mg', 'P3_CYPROHEPTADINE 4MG', 'P3_Ebastine 5MG', 'P3_levoCetirizine 5mg', 'P3_LoraPseudo SR F.C. tab 5120', 'P3_MEQUITAZINE 5MG', 'P3_RIVAROXABAN 10MG (XARELTO)', 'P3_Silodosin 4mg cap', 'P3_TROSPIUM 10mg (URACARE)', 'P4_Eliquis_5mg', 'P4_Epbutol_400mg', 'P4_Femara_2.5mg', 'P4_Finaride F.C. tab_5mg', 'P4_Folina_15mg', 'P4_ISONIAZIDE_100mg', 'P4_TABELLAE Aminophylline_100mg', 'P4_THOIN SRMC_250mg', 'P4_UFUR', 'Q1_GLIBENCLAMIDE_5', 'Q1_pioglitazone_15', 'Q1_rapaglinide_1', 'R1-1 OXCARBAZEPINE TAB 300MG_300mg', 'R1-2_DEPAKINE CHRONO500(VALPROATE)_500mg', 'R1-3 PHENYTOIN(Aleviatin)100MG_100mg', 'R2-1_Piroxicam powder 20mg sachets', 'R2-2_TOPIRAMATE (TOPAMAX)100MG', 'R2-4_LEVETIRACETAM 500MG (KEPPRA)', 'R2_salazine_cane', 'S1_6.25mg CARVEDILOL(SYNTREND)', 'S1_FUROSEMIDE 40MG (URETROPIC)', 'S1_hydralazine 10mg (STABLE)', 'S1_IMIDAPRIL(TANATRIL)', 'S1_INDAPAMIDE SR 1.5 mg_1.5mg', 'S1_Nicorandil 5mg tab_5mg', 'S1_TERAZOSIN 2mg tab_2mg', 'S1_Trichlormethiazide 2mg_2mg', 'S1_VERAPAMIL 40MG (CINTSU)_40mg', 'S2 CARVEDILOL 25MG (SYNTREND)_25mg', 'S2 _AMIODARONE200MG_200mg', 'S2 _AMTREL(AmlodipineBenaz)', 'S2_10MG (ISOSORBIDE dinitrate)_10mg', 'S2_40MG PROpranolol_40mg', 'S2_BISOPROLOL(CONCOR) 1.25MG_1.25mg', 'S2_feloDIPINE 5MG (felPIN)_5mg', 'S2_LABTAL(LABETALOL) 200MGTAB_200mg', 'S2_LACIDIPINE 4MG (LESYN)_4mg', 'S2_niFEDIPINE 5MG (ATANAAL)_5mg', 'S2_SERMION 5MG(NICERGOLINE)_5mg', 'S3_EZETIMIBE 10MG_10mg', 'S3_Fenofibrate micronized 200mg_200mg', 'S3_Gemfibrozil 600mg (GEMD)Tab_600mg', 'S3_OLBETAM(ACIPIMOX)_250mg', 'S3_PITAVASTATIN(LIVALO)2mg tab', 'S3_PRAVASTATIN 40MG (MEVALOTIN)_40mg', 'S3_ROSUVASTATIN (CRESTOR) 10MG', 'S3_SimVastatin 20mg FC Tab_20mg', 'S4_Arheuma 20mg(Leflunomide)', 'S4_Calcitriol 0.25mcg Cap (U-CA)', 'S4_Duphaston 10MG(DYDROGESTERONE)', 'S4_ESTRADIOL VALERATE 2MG', 'S4_ITRACONAZOLE', 'S4_MESALAZINE 500MG (PENTASA)', 'S4_PROGESTERONE 100MG cap_100mg', 'S4_Ritodrine 10mg (ANPO)', 'S5_concerta ER_54mg', 'STOCK_ACERTIL PLUS 51.25mg_25mg', 'STOCK_BLOPRESS plus 16or12.5_16or12.5mg', 'STOCK_Caduet (AMLODIPINE 5MGATOR_5mg', 'STOCK_FEBUXOSTAT 80MG TAB_80mg', 'SWEI_D3-1', 'T1 _CAPTOPRIL25MG_25mg', 'T1_ FOLIC ACID5MG TAB_5mg', 'T1_ IVABRADINE 5MG TAB_5mg', 'T1_ATENOLOL 50MG (UROSIN)_50mg', 'T1_Biperiden HCl 2mg tab_2mg', 'T1_CoEnzyme Q10(Ubidecarenone)_10mg', 'T1_MEXILETINE 100MG (MELETIN)_100mg', 'T1_NITROGLYCERIN SL 0.6MG 25SB_0.6mg', 'T1_SPIRONOLACTONE 25mg(ALDACTIN)_25mg', 'T1_TICLOPIDINE 100MG (LICODIN)_100mg', 'T2 METHIMAZOLE 5mg Tab_5mg', 'T2_ BETHANECHOL 25MG_25mg', 'T2_ DIHYDROEROGOTOXINE2MG_2mg', 'T2_(CH3-B12) methylcobalamine_500mcg', 'T2_200MG (FLAVOXATE)_200mg', 'T2_DOLCOL(PIPEMIDIC ACID)_250mg', 'T2_Medroxyprogesteron 5mgMEDRONE_5mg', 'T2_METRONIDAZOLE 250MG_250mg', 'T2_PROPYLTHIOURACIL 50MG_50mg', 'T2_Solifenacin(Vesicare) 5MG T_5mg', 'T3_AMANTADINE 100mg(DOPADINE)_100mg', 'T3_AZATHIOPRINE 50MG_50mg', 'T3_CILOSTAZOL(PLETAAL)100MG', 'T3_COSPANON 40MG (FLOPROPIONE)', 'T3_FOLIROMIN(FERROUS) 50MG', 'T3_OH-CHLOROQUINE 200MG', 'T3_SCOPOLAMINE 10MG_10mg', 'T3_WARFARIN 5MG TAB(COFARIN)_5mg', 'T_actosMet(PIOGLTAZONE 15mg & MET)', 'T_dronedarone 400mg (MULTAQ)_400mg', 'T_GALVUS MET FC tab_50.100mg', 'U1_ENTACAPONE 200MG (COMTAN)_200mg', 'U2_ROPINIROLE (REQUIP) 1MG_1mg', 'U3_BETAXOLOL(KERLONE) 20MG_20mg', 'U6_WELLBUTRIN XL(BUPROPION)150_150mg']\n"
     ]
    }
   ],
   "source": [
    "print file_folder"
   ]
  },
  {
   "cell_type": "code",
   "execution_count": 51,
   "metadata": {
    "collapsed": true
   },
   "outputs": [],
   "source": [
    "import os\n",
    "DATA_DIR = \"D:\\XML_train\\XML\"\n",
    "file_folder = []\n",
    "for filename in os.listdir(DATA_DIR):\n",
    "    file_folder.append(filename)"
   ]
  },
  {
   "cell_type": "code",
   "execution_count": 52,
   "metadata": {
    "collapsed": false
   },
   "outputs": [
    {
     "name": "stdout",
     "output_type": "stream",
     "text": [
      "['B1_ZEFFIX 100MG (LAMIVUDINE)_back', 'B1_ZEFFIX 100MG (LAMIVUDINE)_front', 'B1_ZIPRASIDONE 40MGCAP (GEODON)_back', 'B1_ZIPRASIDONE 40MGCAP (GEODON)_front', 'B2_(200) QUETIAPINE ER(Seroquel)_back', 'B2_(200) QUETIAPINE ER(Seroquel)_front', 'B2_DIOSMECTITE(SMECTA) POWDER 3G_back', 'B2_DIOSMECTITE(SMECTA) POWDER 3G_front', 'B3_MIRTAZAPINE 30MG OD TAB_30mg_back', 'B3_MIRTAZAPINE 30MG OD TAB_30mg_front', 'B3_RABEPRAZOLE 20MGTAB_20mg_back', 'B3_RABEPRAZOLE 20MGTAB_20mg_front', 'B4_Acetylcysteine_200mg_back', 'B4_Acetylcysteine_200mg_front', 'B4_NORMACOL plus_7g_back', 'B4_NORMACOL plus_7g_front', 'C1_ACERTIL PLUS 5mg_back', 'C1_ACERTIL PLUS 5mg_front', 'C1_DILTISSER_diltiazem 30_back', 'C1_DILTISSER_diltiazem 30_front', 'C2_DUODART cap_Dutasteride0.5 tamsulosin 0.4_back', 'C2_DUODART cap_Dutasteride0.5 tamsulosin 0.4_front', 'C2_LAMICTAL_lamotrigine 50mg_back', 'C2_LAMICTAL_lamotrigine 50mg_front', 'C3_CIMETIDINE 300MG_300mg_back', 'C3_CIMETIDINE 300MG_300mg_front', 'C3_LANSOPRAZOLE OD_30mg_back', 'C3_LANSOPRAZOLE OD_30mg_front', 'C4_ TAMSULOSIN 0.2mg SR cap_0.2mg_back', 'C4_ TAMSULOSIN 0.2mg SR cap_0.2mg_front', 'C4_mgo_back', 'C4_mgo_front', 'D1-1_ENTECAVIR 0.5MG (BARACLUDE)_back', 'D1-1_ENTECAVIR 0.5MG (BARACLUDE)_front', 'D2-1_NOLVADEX_10mg_back', 'D2-1_NOLVADEX_10mg_front', 'D2-2_GLIMET_glimepiride metformin 2 500_back', 'D2-2_GLIMET_glimepiride metformin 2 500_front', 'D2-3_EASYFOR SR_venlafaxine 75_back', 'D2-3_EASYFOR SR_venlafaxine 75_front', 'D2-4_SUPERCILLIN_250mg_back', 'D2-4_SUPERCILLIN_250mg_front', 'D3-2_60mg Isosorbide mononitrate_60mg_back', 'D3-2_60mg Isosorbide mononitrate_60mg_front', 'D3-3_SerTraLine 50mg (ZOLOFT)_50mg_back', 'D3-3_SerTraLine 50mg (ZOLOFT)_50mg_front', 'D3-4_CALCIUM ACETATE 667MG_667mg_back', 'D3-4_CALCIUM ACETATE 667MG_667mg_front', 'D4-1_Acarbose(glucoBAY)  100MG_100mg_back', 'D4-1_Acarbose(glucoBAY)  100MG_100mg_front', 'D4-2 DIGOXIN 0.25MGLANOXIN_0.25mg_back', 'D4-2 DIGOXIN 0.25MGLANOXIN_0.25mg_front', 'D4-3_Glimepiride 2mg tab_2mg_back', 'D4-3_Glimepiride 2mg tab_2mg_front', 'DIAMIN_back', 'DIAMIN_front', 'E1_RAMIPRIL (TRITACE) 10MG_10mg_back', 'E1_RAMIPRIL (TRITACE) 10MG_10mg_front', 'E2_CozAAr(LoSARTAN) 100MG_back', 'E2_CozAAr(LoSARTAN) 100MG_front', 'E3_APROVEL_300mg_back', 'E3_APROVEL_300mg_front', 'E3_BLOPRESS_8mg_back', 'E3_BLOPRESS_8mg_front', 'E3_NOBAR_5mg_back', 'E3_NOBAR_5mg_front', 'E3_OLMETEC_40mg_back', 'E3_OLMETEC_40mg_front', 'E4_Azilsartan Medoxomil (EDARBI)_40mg_back', 'E4_Azilsartan Medoxomil (EDARBI)_40mg_front', 'E4_CLOPIDOGREL(THROMBIFREE)75MG_75mg_back', 'E4_CLOPIDOGREL(THROMBIFREE)75MG_75mg_front', 'E4_CO-APROVEL 300-12.5_300-12.5_back', 'E4_CO-APROVEL 300-12.5_300-12.5_front', 'E4_CO-DIOVAN_160-12.5_back', 'E4_CO-DIOVAN_160-12.5_front', 'E4_LERCANIDIPINE 10MG_back', 'E4_LERCANIDIPINE 10MG_front', 'F1_Amoxicillin875 Clavulanic125_1g_back', 'F1_Amoxicillin875 Clavulanic125_1g_front', 'F1_CABIDRIN tab_back', 'F1_CABIDRIN tab_front', 'F1_PROGOR SR 180MG Cap_180mg_back', 'F1_PROGOR SR 180MG Cap_180mg_front', 'F2_CELECOXIB 200MG(CELEBREX)_200mg_back', 'F2_CELECOXIB 200MG(CELEBREX)_200mg_front', 'F2_ETORICOXIB 60MG (ARCOXIA)_60mg_back', 'F2_ETORICOXIB 60MG (ARCOXIA)_60mg_front', 'F2_FLUVASTATIN XL 80MG_80mg_back', 'F2_FLUVASTATIN XL 80MG_80mg_front', 'F2_RYTMONORM (PROPAFENONE)_150mg_back', 'F2_RYTMONORM (PROPAFENONE)_150mg_front', 'F3_Empagliflozin 25mg FC tab_25mg_back', 'F3_Empagliflozin 25mg FC tab_25mg_front', 'F3_GALVUS_50mg_back', 'F3_GALVUS_50mg_front', 'F3_JANUVIA_100mg_back', 'F3_JANUVIA_100mg_front', 'F3_ONGLYZA_5mg_back', 'F3_ONGLYZA_5mg_front', 'F3_TRAJENTA_5mg_back', 'F3_TRAJENTA_5mg_front', 'F4_160mg valsartan_back', 'F4_160mg valsartan_front', 'F4_80MG TELMISARTAN(MICARDIS)_back', 'F4_80MG TELMISARTAN(MICARDIS)_front', 'F4_CLOPIDOGREL(PLAVIX)75MG_back', 'F4_CLOPIDOGREL(PLAVIX)75MG_front', 'F4_EXFORGE HCT(516012.5)_back', 'F4_EXFORGE HCT(516012.5)_front', 'G1_MONTELUKAST 10MG(ANXOKAST)_back', 'G1_MONTELUKAST 10MG(ANXOKAST)_front', 'G2_NIFEDIPINE 30mg Tab_30mg_back', 'G2_NIFEDIPINE 30mg Tab_30mg_front', 'G3_mephenoxalone_200mg_back', 'G3_mephenoxalone_200mg_front', 'G4_EXforge (5-160)_5-160_back', 'G4_EXforge (5-160)_5-160_front', 'H1_NABUMETONE(LABUTON)500MG_back', 'H1_NABUMETONE(LABUTON)500MG_front', 'H2_TRAMACET(ACT325Tramadol)_back', 'H2_TRAMACET(ACT325Tramadol)_front', 'H3_NOOPOL_1.2g_back', 'H3_NOOPOL_1.2g_front', 'H4_SILYMARIN150MG_150mg_back', 'H4_SILYMARIN150MG_150mg_front', 'I1_SEVIKAR HCT (20 512.5)_back', 'I1_SEVIKAR HCT (20 512.5)_front', 'I2_esOMEPRAZOLE_40_back', 'I2_esOMEPRAZOLE_40_front', 'I3_doxaben_4mg_back', 'I3_doxaben_4mg_front', 'I4_STAZYME TAB_back', 'I4_STAZYME TAB_front', 'J1_PROTASE EC CAP_back', 'J1_PROTASE EC CAP_front', 'J2_MEBEVERINE(DOBECON)_100mg_back', 'J2_MEBEVERINE(DOBECON)_100mg_front', 'J3_ALGITAB_200mg_back', 'J3_ALGITAB_200mg_front', 'J4_(6oo)Acetylcysteine EFF_600mg_back', 'J4_(6oo)Acetylcysteine EFF_600mg_front', 'K1_Ribavirin 200mg cap_200mg_back', 'K1_Ribavirin 200mg cap_200mg_front', 'K2_DEXLANSOPRAZOLE_60mg_back', 'K2_DEXLANSOPRAZOLE_60mg_front', 'K3_KONSYL_6g_back', 'K3_KONSYL_6g_front', 'K4_400MG pentoXIFYLLINE(FYLIN)_400mg_back', 'K4_400MG pentoXIFYLLINE(FYLIN)_400mg_front', 'L1-1_Atorvastatin TULIP_40mg_back', 'L1-1_Atorvastatin TULIP_40mg_front', 'L1-2_amBROXOL (MUSCO)_30mg_back', 'L1-2_amBROXOL (MUSCO)_30mg_front', 'L1-3_Rivotril(CLONAZEPAM)_0.5mg_back', 'L1-3_Rivotril(CLONAZEPAM)_0.5mg_front', 'L1-4_TOLPERISONE(TOPEE)_150mg_back', 'L1-4_TOLPERISONE(TOPEE)_150mg_front', 'L1-5_ diclofenac pot. (MEITAN)_25mg_back', 'L1-5_ diclofenac pot. (MEITAN)_25mg_front', 'L1-6_ALprazolam _0.5mg_back', 'L1-6_ALprazolam _0.5mg_front', 'L1-8_zolpidem 10mg FC tab_10mg_back', 'L1-8_zolpidem 10mg FC tab_10mg_front', 'L2-1_QUETIAPINE 100MG(Seroquel)_100mg_back', 'L2-1_QUETIAPINE 100MG(Seroquel)_100mg_front', 'L2-2_Dipyridamole 25mg_25mg_back', 'L2-2_Dipyridamole 25mg_25mg_front', 'L2-3_FUCOUDEXTROMETHORPHAN20_20mg_back', 'L2-3_FUCOUDEXTROMETHORPHAN20_20mg_front', 'L2-4_FEXOFENADINE 60MG (ALLEGRA)_60mg_back', 'L2-4_FEXOFENADINE 60MG (ALLEGRA)_60mg_front', 'L2-5_ASPIRIN 100MG(BOKEY)_100mg_back', 'L2-5_ASPIRIN 100MG(BOKEY)_100mg_front', 'L2-6_ACETAMINOPHEN 500MG_500mg_back', 'L2-6_ACETAMINOPHEN 500MG_500mg_front', 'L2-7_(2) Lorazepam(LARPAM) 2mg_2mg_back', 'L2-7_(2) Lorazepam(LARPAM) 2mg_2mg_front', 'L2-8_FLUDIAZEPAM(FLUPINE) 0.25mg_0.25mg_back', 'L2-8_FLUDIAZEPAM(FLUPINE) 0.25mg_0.25mg_front', 'M1_ Metformin 500mg(UFORMIN)_500mg_back', 'M1_ Metformin 500mg(UFORMIN)_500mg_front', 'M2_FAMOTIDINE 20mg_20mg_back', 'M2_FAMOTIDINE 20mg_20mg_front', 'M3_STROCAIN_back', 'M3_STROCAIN_front', 'M4_IWELL tab_back', 'M4_IWELL tab_front', 'M5_ALINAMIN F_back', 'M5_ALINAMIN F_front', 'M6_PROPRANOLOL_10mg_back', 'M6_PROPRANOLOL_10mg_front', 'M7_Coxine_20mg_back', 'M7_Coxine_20mg_front', 'middle_Radi K_23675_back', 'middle_Radi K_23675_front', 'N1_KASCOAL_40mg_back', 'N1_KASCOAL_40mg_front', 'N2_BISO F.C. tab_5mg_back', 'N2_BISO F.C. tab_5mg_front', 'N2_BISOPROLOL 5MG_5mg_back', 'N2_BISOPROLOL 5MG_5mg_front', 'N2_COMPESOLON_5mg_back', 'N2_COMPESOLON_5mg_front', 'N4_CLONAZEPAM 2MG (RIVOTRIL)_2mg_back', 'N4_CLONAZEPAM 2MG (RIVOTRIL)_2mg_front', 'N5_125MG THEOPHYLLINE_125mg_back', 'N5_125MG THEOPHYLLINE_125mg_front', 'N6_NICAMETATE(SANYL) 50MG_50mg_back', 'N6_NICAMETATE(SANYL) 50MG_50mg_front', 'N7_Pentoxifylline 100MG_100mg_back', 'N7_Pentoxifylline 100MG_100mg_front', 'N8_CACO3(Calcium carbonate 500mg)_500mg_back', 'N8_CACO3(Calcium carbonate 500mg)_500mg_front', 'N9_BIO-CAL PLUS chewable tab_back', 'N9_BIO-CAL PLUS chewable tab_front', 'O1_(0.5) Lorazepam(LOWEN) 0.5mg_0.5mg_back', 'O1_(0.5) Lorazepam(LOWEN) 0.5mg_0.5mg_front', 'O1_10mg_aRIPIprazole_10mg_back', 'O1_10mg_aRIPIprazole_10mg_front', 'O1_2mg TRIHEXYPHENIDYL_2mg_back', 'O1_2mg TRIHEXYPHENIDYL_2mg_front', 'O1_BROMAZIN (BROMAZEPAM) 3MG_3mg_back', 'O1_BROMAZIN (BROMAZEPAM) 3MG_3mg_front', 'O1_DEANXIT_0.5mg_back', 'O1_DEANXIT_0.5mg_front', 'O1_DIAZEPAM 2MG_2mg_back', 'O1_DIAZEPAM 2MG_2mg_front', 'O1_ESCITALOPRAM OXALATE 10MG_10mg_back', 'O1_ESCITALOPRAM OXALATE 10MG_10mg_front', 'O1_ESTAZOLAM 2MG (ESZO)_2mg_back', 'O1_ESTAZOLAM 2MG (ESZO)_2mg_front', 'O1_IMIPRAMINE 25MG (FRONIL)_25mg_back', 'O1_IMIPRAMINE 25MG (FRONIL)_25mg_front', 'O1_SULPIRIDE 200MG (SulPin)_200mg_back', 'O1_SULPIRIDE 200MG (SulPin)_200mg_front', 'O1_ZOPICLONE 7.5MG(ZOLON)_7.5mg_back', 'O1_ZOPICLONE 7.5MG(ZOLON)_7.5mg_front', 'O2_BISACODYL 5MG(Dulcolax)_5mg_back', 'O2_BISACODYL 5MG(Dulcolax)_5mg_front', 'O2_CONSLIFE SC TAB_back', 'O2_CONSLIFE SC TAB_front', 'O2_DOMPERIDONE(NIDOLIUM) 10MG_10mg_back', 'O2_DOMPERIDONE(NIDOLIUM) 10MG_10mg_front', 'O2_LOPERAMIDE 2MG(Imolex)_2mg_back', 'O2_LOPERAMIDE 2MG(Imolex)_2mg_front', 'O2_MOSAPRIDE 5MG (MOSAD)_5mg_back', 'O2_MOSAPRIDE 5MG (MOSAD)_5mg_front', 'O2_PINAVERIUM BROMIDE 50MG(DICETE)_50mg_back', 'O2_PINAVERIUM BROMIDE 50MG(DICETE)_50mg_front', 'O2_PROMERAN(METOCLOPRAMIDE)_3.84mg_back', 'O2_PROMERAN(METOCLOPRAMIDE)_3.84mg_front', 'O2_TRANCOLON(MEPENZOLATE)_7.5mg_back', 'O2_TRANCOLON(MEPENZOLATE)_7.5mg_front', 'O3_(Seftem)CEFTIBUTEN 100MG_100mg_back', 'O3_(Seftem)CEFTIBUTEN 100MG_100mg_front', 'O3_Amoxicillin875_Clavulanic125_1g_box_back', 'O3_Amoxicillin875_Clavulanic125_1g_box_front', 'O3_CEPHALEXIN 500MG_500mg_back', 'O3_CEPHALEXIN 500MG_500mg_front', 'O3_Ciprofloxacin 250mg F.C. tab_250mg_back', 'O3_Ciprofloxacin 250mg F.C. tab_250mg_front', 'O3_CLARITHROMYCIN 500MG_500mg_back', 'O3_CLARITHROMYCIN 500MG_500mg_front', 'O3_CLINDAMYCIN 150MG_150mg_back', 'O3_CLINDAMYCIN 150MG_150mg_front', 'O3_CO-TRIMOXAZOLE_back', 'O3_CO-TRIMOXAZOLE_front', 'O3_Etodolac 400mg(Pinton SR)_400mg_back', 'O3_Etodolac 400mg(Pinton SR)_400mg_front', 'O3_URSOdeoxycholic acid 100mg_back', 'O3_URSOdeoxycholic acid 100mg_front', 'O4_5MG OLANZAPINE(ZYPREXA ZYDIS)_back', 'O4_5MG OLANZAPINE(ZYPREXA ZYDIS)_front', 'O4_AGOMELATINE 25MG TAB (VALDOXAN)_25mg_back', 'O4_AGOMELATINE 25MG TAB (VALDOXAN)_25mg_front', 'O4_AMISULPRIDE 200MG_back', 'O4_AMISULPRIDE 200MG_front', 'O4_DULOXETINE 30MG (CYMBALTA)_back', 'O4_DULOXETINE 30MG (CYMBALTA)_front', 'O4_haloperidol_0.5_back', 'O4_haloperidol_0.5_front', 'O4_MUACTION(TRAMADOL HCI SR TAB)_100_back', 'O4_MUACTION(TRAMADOL HCI SR TAB)_100_front', 'O4_NORDAZEPAM (CALMDAY)TAB_5_back', 'O4_NORDAZEPAM (CALMDAY)TAB_5_front', 'O4_PHENOBARBITAL TAB _30_back', 'O4_PHENOBARBITAL TAB _30_front', 'O4_RITALIN 10MG(METHYLPHENIDATE)_10_back', 'O4_RITALIN 10MG(METHYLPHENIDATE)_10_front', 'O4_SEROQUELXR(QUETIAPINE)_50_back', 'O4_SEROQUELXR(QUETIAPINE)_50_front', 'O4_TRIAZOLAM(HALCION)_0.25_back', 'O4_TRIAZOLAM(HALCION)_0.25_front', 'O4_ZAPINE(Clozapine)_100_back', 'O4_ZAPINE(Clozapine)_100_front', 'O4_zotepine 50mg tab_50_back', 'O4_zotepine 50mg tab_50_front', 'P1_100mg \\xa2\\xe1\\xa2\\xe0 tab Diclofenac_100mg_back', 'P1_100mg \\xa2\\xe1\\xa2\\xe0 tab Diclofenac_100mg_front', 'P1_60MG ACEMETACIN (ACEMET)_60mg_back', 'P1_60MG ACEMETACIN (ACEMET)_60mg_front', 'P1_ALLOPURINOL 100MG_100mg_back', 'P1_ALLOPURINOL 100MG_100mg_front', 'P1_BENZBROMARONE 50MG_50mg_back', 'P1_BENZBROMARONE 50MG_50mg_front', 'P1_COLCHICINE 0.5MG_0.5mg_back', 'P1_COLCHICINE 0.5MG_0.5mg_front', 'P1_Meloxicam 15mg tab_15mg_back', 'P1_Meloxicam 15mg tab_15mg_front', 'P1_NAPROXEN (NAPOSIN) 250MG_250mg_back', 'P1_NAPROXEN (NAPOSIN) 250MG_250mg_front', 'P1_ROPAL (INF.ASPIRIN) 0.1g_0.1mg_back', 'P1_ROPAL (INF.ASPIRIN) 0.1g_0.1mg_front', 'P1_TONEC Aceclofenac 100mg Tab_100mg_back', 'P1_TONEC Aceclofenac 100mg Tab_100mg_front', 'P2(Suzin)Flunarizine 10mg_10mg_back', 'P2(Suzin)Flunarizine 10mg_10mg_front', 'P2_75MG amBROXOL 75MG_75mg_back', 'P2_75MG amBROXOL 75MG_75mg_front', 'P2_CABIDRIN tab_back', 'P2_CABIDRIN tab_front', 'P2_desLORATADINE 5MG_5mg_back', 'P2_desLORATADINE 5MG_5mg_front', 'P2_Dextromethorphan 60MG_60mg_back', 'P2_Dextromethorphan 60MG_60mg_front', 'P2_DIPHENIDOL 25MG_25mg_2_back', 'P2_DIPHENIDOL 25MG_25mg_2_front', 'P2_DIPHENIDOL 25MG_25mg_back', 'P2_DIPHENIDOL 25MG_25mg_front', 'P2_MERISLON(BETAHISTINE)12MG_12mg_back', 'P2_MERISLON(BETAHISTINE)12MG_12mg_front', 'P2_Opium and Glycyrrhiza Mix_back', 'P2_Opium and Glycyrrhiza Mix_front', 'P2_Procaterol 25mcg tab(MECATER)_25mg_back', 'P2_Procaterol 25mcg tab(MECATER)_25mg_front', 'P2_Pseudoephedrine 120mg(FEDCEN)_120mg_back', 'P2_Pseudoephedrine 120mg(FEDCEN)_120mg_front', 'P3_aripiprazole_5mg_back', 'P3_aripiprazole_5mg_front', 'P3_CYPROHEPTADINE 4MG_back', 'P3_CYPROHEPTADINE 4MG_front', 'P3_Ebastine 5MG_back', 'P3_Ebastine 5MG_front', 'P3_levoCetirizine 5mg_back', 'P3_levoCetirizine 5mg_front', 'P3_LoraPseudo SR F.C. tab 5120_back', 'P3_LoraPseudo SR F.C. tab 5120_front', 'P3_MEQUITAZINE 5MG_back', 'P3_MEQUITAZINE 5MG_front', 'P3_RIVAROXABAN 10MG (XARELTO)_back', 'P3_RIVAROXABAN 10MG (XARELTO)_front', 'P3_Silodosin 4mg cap_back', 'P3_Silodosin 4mg cap_front', 'P3_TROSPIUM 10mg (URACARE)_back', 'P3_TROSPIUM 10mg (URACARE)_front', 'P4_Eliquis_5mg_back', 'P4_Eliquis_5mg_front', 'P4_Epbutol_400mg_back', 'P4_Epbutol_400mg_front', 'P4_Femara_2.5mg_back', 'P4_Femara_2.5mg_front', 'P4_Finaride F.C. tab_5mg_back', 'P4_Finaride F.C. tab_5mg_front', 'P4_Folina_15mg_back', 'P4_Folina_15mg_front', 'P4_ISONIAZIDE_100mg_back', 'P4_ISONIAZIDE_100mg_front', 'P4_TABELLAE Aminophylline_100mg_back', 'P4_TABELLAE Aminophylline_100mg_front', 'P4_THOIN SRMC_250mg_back', 'P4_THOIN SRMC_250mg_front', 'P4_UFUR_back', 'P4_UFUR_front', 'Q1_GLIBENCLAMIDE_5_back', 'Q1_GLIBENCLAMIDE_5_front', 'Q1_pioglitazone_15_back', 'Q1_pioglitazone_15_front', 'Q1_rapaglinide_1_back', 'Q1_rapaglinide_1_front', 'R1-1 OXCARBAZEPINE TAB 300MG_300mg_back', 'R1-1 OXCARBAZEPINE TAB 300MG_300mg_front', 'R1-2_DEPAKINE CHRONO500(VALPROATE)_500mg_back', 'R1-2_DEPAKINE CHRONO500(VALPROATE)_500mg_front', 'R1-3 PHENYTOIN(Aleviatin)100MG_100mg_back', 'R1-3 PHENYTOIN(Aleviatin)100MG_100mg_front', 'R2-1_Piroxicam powder 20mg sachets_back', 'R2-1_Piroxicam powder 20mg sachets_front', 'R2-2_TOPIRAMATE (TOPAMAX)100MG_back', 'R2-2_TOPIRAMATE (TOPAMAX)100MG_front', 'R2-4_LEVETIRACETAM 500MG (KEPPRA)_back', 'R2-4_LEVETIRACETAM 500MG (KEPPRA)_front', 'R2_salazine_cane_back', 'R2_salazine_cane_front', 'S1_6.25mg CARVEDILOL(SYNTREND)_back', 'S1_6.25mg CARVEDILOL(SYNTREND)_front', 'S1_FUROSEMIDE 40MG (URETROPIC)_back', 'S1_FUROSEMIDE 40MG (URETROPIC)_front', 'S1_hydralazine 10mg (STABLE)_back', 'S1_hydralazine 10mg (STABLE)_front', 'S1_IMIDAPRIL(TANATRIL)_back', 'S1_IMIDAPRIL(TANATRIL)_front', 'S1_INDAPAMIDE SR 1.5 mg_1.5mg_back', 'S1_INDAPAMIDE SR 1.5 mg_1.5mg_front', 'S1_Nicorandil 5mg tab_5mg_back', 'S1_Nicorandil 5mg tab_5mg_front', 'S1_TERAZOSIN 2mg tab_2mg_back', 'S1_TERAZOSIN 2mg tab_2mg_front', 'S1_Trichlormethiazide 2mg_2mg_back', 'S1_Trichlormethiazide 2mg_2mg_front', 'S1_VERAPAMIL 40MG (CINTSU)_40mg_back', 'S1_VERAPAMIL 40MG (CINTSU)_40mg_front', 'S2 CARVEDILOL 25MG (SYNTREND)_25mg_back', 'S2 CARVEDILOL 25MG (SYNTREND)_25mg_front', 'S2 _AMIODARONE200MG_200mg_back', 'S2 _AMIODARONE200MG_200mg_front', 'S2 _AMTREL(AmlodipineBenaz)_back', 'S2 _AMTREL(AmlodipineBenaz)_front', 'S2_10MG (ISOSORBIDE dinitrate)_10mg_back', 'S2_10MG (ISOSORBIDE dinitrate)_10mg_front', 'S2_40MG PROpranolol_40mg_back', 'S2_40MG PROpranolol_40mg_front', 'S2_BISOPROLOL(CONCOR) 1.25MG_1.25mg_back', 'S2_BISOPROLOL(CONCOR) 1.25MG_1.25mg_front', 'S2_feloDIPINE 5MG (felPIN)_5mg_back', 'S2_feloDIPINE 5MG (felPIN)_5mg_front', 'S2_LABTAL(LABETALOL) 200MGTAB_200mg_back', 'S2_LABTAL(LABETALOL) 200MGTAB_200mg_front', 'S2_LACIDIPINE 4MG (LESYN)_4mg_back', 'S2_LACIDIPINE 4MG (LESYN)_4mg_front', 'S2_niFEDIPINE 5MG (ATANAAL)_5mg_back', 'S2_niFEDIPINE 5MG (ATANAAL)_5mg_front', 'S2_SERMION 5MG(NICERGOLINE)_5mg_back', 'S2_SERMION 5MG(NICERGOLINE)_5mg_front', 'S3_EZETIMIBE 10MG_10mg_back', 'S3_EZETIMIBE 10MG_10mg_front', 'S3_Fenofibrate micronized 200mg_200mg_back', 'S3_Fenofibrate micronized 200mg_200mg_front', 'S3_Gemfibrozil 600mg (GEMD)Tab_600mg_back', 'S3_Gemfibrozil 600mg (GEMD)Tab_600mg_front', 'S3_OLBETAM(ACIPIMOX)_250mg_back', 'S3_OLBETAM(ACIPIMOX)_250mg_front', 'S3_PITAVASTATIN(LIVALO)2mg tab_back', 'S3_PITAVASTATIN(LIVALO)2mg tab_front', 'S3_PRAVASTATIN 40MG (MEVALOTIN)_40mg_back', 'S3_PRAVASTATIN 40MG (MEVALOTIN)_40mg_front', 'S3_ROSUVASTATIN (CRESTOR) 10MG_back', 'S3_ROSUVASTATIN (CRESTOR) 10MG_front', 'S3_SimVastatin 20mg FC Tab_20mg_back', 'S3_SimVastatin 20mg FC Tab_20mg_front', 'S4_Arheuma 20mg(Leflunomide)_back', 'S4_Arheuma 20mg(Leflunomide)_front', 'S4_Calcitriol 0.25mcg Cap (U-CA)_back', 'S4_Calcitriol 0.25mcg Cap (U-CA)_front', 'S4_Duphaston 10MG(DYDROGESTERONE)_back', 'S4_Duphaston 10MG(DYDROGESTERONE)_front', 'S4_ESTRADIOL VALERATE 2MG_back', 'S4_ESTRADIOL VALERATE 2MG_front', 'S4_ITRACONAZOLE_back', 'S4_ITRACONAZOLE_front', 'S4_MESALAZINE 500MG (PENTASA)_back', 'S4_MESALAZINE 500MG (PENTASA)_front', 'S4_PROGESTERONE 100MG cap_100mg_back', 'S4_PROGESTERONE 100MG cap_100mg_front', 'S4_Ritodrine 10mg (ANPO)_back', 'S4_Ritodrine 10mg (ANPO)_front', 'S5_concerta ER_54mg_back', 'S5_concerta ER_54mg_front', 'STOCK_ACERTIL PLUS 51.25mg_25mg_back', 'STOCK_ACERTIL PLUS 51.25mg_25mg_front', 'STOCK_BLOPRESS plus 161or2.5_16or12.5mg_back', 'STOCK_BLOPRESS plus 161or2.5_16or12.5mg_front', 'STOCK_Caduet (AMLODIPINE 5MGATOR_5mg_back', 'STOCK_Caduet (AMLODIPINE 5MGATOR_5mg_front', 'STOCK_FEBUXOSTAT 80MG TAB_80mg_back', 'STOCK_FEBUXOSTAT 80MG TAB_80mg_front', 'SWEI_D3-1_back', 'SWEI_D3-1_front', 'T1 _CAPTOPRIL25MG_25mg_back', 'T1 _CAPTOPRIL25MG_25mg_front', 'T1_ FOLIC ACID5MG TAB_5mg_back', 'T1_ FOLIC ACID5MG TAB_5mg_front', 'T1_ IVABRADINE 5MG TAB_5mg_back', 'T1_ IVABRADINE 5MG TAB_5mg_front', 'T1_ATENOLOL 50MG (UROSIN)_50mg_back', 'T1_ATENOLOL 50MG (UROSIN)_50mg_front', 'T1_Biperiden HCl 2mg tab_2mg_back', 'T1_Biperiden HCl 2mg tab_2mg_front', 'T1_CoEnzyme Q10(Ubidecarenone)_10mg_back', 'T1_CoEnzyme Q10(Ubidecarenone)_10mg_front', 'T1_MEXILETINE 100MG (MELETIN)_100mg_back', 'T1_MEXILETINE 100MG (MELETIN)_100mg_front', 'T1_NITROGLYCERIN SL 0.6MG 25SB_0.6mg_back', 'T1_NITROGLYCERIN SL 0.6MG 25SB_0.6mg_front', 'T1_SPIRONOLACTONE 25mg(ALDACTIN)_25mg_back', 'T1_SPIRONOLACTONE 25mg(ALDACTIN)_25mg_front', 'T1_TICLOPIDINE 100MG (LICODIN)_100mg_back', 'T1_TICLOPIDINE 100MG (LICODIN)_100mg_front', 'T2 METHIMAZOLE 5mg Tab_5mg_back', 'T2 METHIMAZOLE 5mg Tab_5mg_front', 'T2_ BETHANECHOL 25MG_25mg_back', 'T2_ BETHANECHOL 25MG_25mg_front', 'T2_ DIHYDROEROGOTOXINE2MG_2mg_back', 'T2_ DIHYDROEROGOTOXINE2MG_2mg_front', 'T2_(CH3-B12) methylcobalamine_500mcg_back', 'T2_(CH3-B12) methylcobalamine_500mcg_front', 'T2_200MG (FLAVOXATE)_200mg_back', 'T2_200MG (FLAVOXATE)_200mg_front', 'T2_DOLCOL(PIPEMIDIC ACID)_250mg_back', 'T2_DOLCOL(PIPEMIDIC ACID)_250mg_front', 'T2_Medroxyprogesteron 5mgMEDRONE_5mg_back', 'T2_Medroxyprogesteron 5mgMEDRONE_5mg_front', 'T2_METRONIDAZOLE 250MG_250mg_back', 'T2_METRONIDAZOLE 250MG_250mg_front', 'T2_PROPYLTHIOURACIL 50MG_50mg_back', 'T2_PROPYLTHIOURACIL 50MG_50mg_front', 'T2_Solifenacin(Vesicare) 5MG T_5mg_back', 'T2_Solifenacin(Vesicare) 5MG T_5mg_front', 'T3_AMANTADINE 100mg(DOPADINE)_100mg_back', 'T3_AMANTADINE 100mg(DOPADINE)_100mg_front', 'T3_AZATHIOPRINE 50MG_50mg_back', 'T3_AZATHIOPRINE 50MG_50mg_front', 'T3_CILOSTAZOL(PLETAAL)100MG_back', 'T3_CILOSTAZOL(PLETAAL)100MG_front', 'T3_COSPANON 40MG (FLOPROPIONE)_back', 'T3_COSPANON 40MG (FLOPROPIONE)_front', 'T3_FOLIROMIN(FERROUS) 50MG_back', 'T3_FOLIROMIN(FERROUS) 50MG_front', 'T3_OH-CHLOROQUINE 200MG_back', 'T3_OH-CHLOROQUINE 200MG_front', 'T3_SCOPOLAMINE 10MG_10mg_back', 'T3_SCOPOLAMINE 10MG_10mg_front', 'T3_WARFARIN 5MG TAB(COFARIN)_5mg_back', 'T3_WARFARIN 5MG TAB(COFARIN)_5mg_front', 'T_actosMet(PIOGLTAZONE 15mg & MET)_back', 'T_actosMet(PIOGLTAZONE 15mg & MET)_front', 'T_dronedarone 400mg (MULTAQ)_400mg_back', 'T_dronedarone 400mg (MULTAQ)_400mg_front', 'T_GALVUS MET FC tab_50.100mg_back', 'T_GALVUS MET FC tab_50.100mg_front', 'U1_ENTACAPONE 200MG (COMTAN)_200mg_back', 'U1_ENTACAPONE 200MG (COMTAN)_200mg_front', 'U2_ROPINIROLE (REQUIP) 1MG_1mg_back', 'U2_ROPINIROLE (REQUIP) 1MG_1mg_front', 'U3_BETAXOLOL(KERLONE) 20MG_20mg_back', 'U3_BETAXOLOL(KERLONE) 20MG_20mg_front', 'U6_WELLBUTRIN XL(BUPROPION)150_150mg_back', 'U6_WELLBUTRIN XL(BUPROPION)150_150mg_front']\n"
     ]
    }
   ],
   "source": [
    "print file_folder"
   ]
  },
  {
   "cell_type": "code",
   "execution_count": 63,
   "metadata": {
    "collapsed": false
   },
   "outputs": [],
   "source": [
    "import os\n",
    "os.rename(\"D:\\\\XML_train\\\\XML _train\\\\B1_ZEFFIX 100MG (LAMIVUDINE)_back\\\\1.xml\",\"D:\\\\XML_train\\\\XML _train\\\\B1_ZEFFIX 100MG (LAMIVUDINE)_back\\\\5656.xml\")"
   ]
  },
  {
   "cell_type": "code",
   "execution_count": 64,
   "metadata": {
    "collapsed": true
   },
   "outputs": [],
   "source": [
    "import os\n",
    "DATA_DIR = \"D:\\XML_train\\XML\"\n",
    "file_folder = []\n",
    "for filename in os.listdir(DATA_DIR):\n",
    "    file_folder.append(filename)"
   ]
  },
  {
   "cell_type": "code",
   "execution_count": 69,
   "metadata": {
    "collapsed": false
   },
   "outputs": [],
   "source": [
    "name = file_folder[1]\n",
    "for i in range(1,73,1):\n",
    "    j = i+72\n",
    "    os.rename(\"D:\\\\XML_train\\\\XML _train\\\\\"+name+\"\\\\%d.xml\"%i,\"D:\\\\XML_train\\\\XML _train\\\\\"+name+\"\\\\%d.xml\"%j)"
   ]
  },
  {
   "cell_type": "code",
   "execution_count": 65,
   "metadata": {
    "collapsed": true
   },
   "outputs": [],
   "source": [
    "name = file_folder[1]"
   ]
  },
  {
   "cell_type": "code",
   "execution_count": 66,
   "metadata": {
    "collapsed": false
   },
   "outputs": [
    {
     "name": "stdout",
     "output_type": "stream",
     "text": [
      "B1_ZEFFIX 100MG (LAMIVUDINE)_front\n"
     ]
    }
   ],
   "source": [
    "print name"
   ]
  },
  {
   "cell_type": "code",
   "execution_count": 70,
   "metadata": {
    "collapsed": true
   },
   "outputs": [],
   "source": [
    "import os\n",
    "DATA_DIR = \"D:\\XML_train\\XML\"\n",
    "file_folder = []\n",
    "for filename in os.listdir(DATA_DIR):\n",
    "    file_folder.append(filename)"
   ]
  },
  {
   "cell_type": "code",
   "execution_count": 85,
   "metadata": {
    "collapsed": false
   },
   "outputs": [
    {
     "ename": "WindowsError",
     "evalue": "[Error 2] 系統找不到指定的檔案。",
     "output_type": "error",
     "traceback": [
      "\u001b[0;31m---------------------------------------------------------------------------\u001b[0m",
      "\u001b[0;31mWindowsError\u001b[0m                              Traceback (most recent call last)",
      "\u001b[0;32m<ipython-input-85-442a8989114c>\u001b[0m in \u001b[0;36m<module>\u001b[0;34m()\u001b[0m\n\u001b[1;32m     18\u001b[0m         \u001b[1;32mfor\u001b[0m \u001b[0mk\u001b[0m \u001b[1;32min\u001b[0m \u001b[0mrange\u001b[0m\u001b[1;33m(\u001b[0m\u001b[1;36m1\u001b[0m\u001b[1;33m,\u001b[0m\u001b[0mvar\u001b[0m\u001b[1;33m+\u001b[0m\u001b[1;36m1\u001b[0m\u001b[1;33m,\u001b[0m\u001b[1;36m1\u001b[0m\u001b[1;33m)\u001b[0m\u001b[1;33m:\u001b[0m\u001b[1;33m\u001b[0m\u001b[0m\n\u001b[1;32m     19\u001b[0m             \u001b[1;32mif\u001b[0m\u001b[1;33m(\u001b[0m\u001b[0mi\u001b[0m\u001b[1;33m!=\u001b[0m\u001b[1;36m0\u001b[0m\u001b[1;33m)\u001b[0m\u001b[1;33m:\u001b[0m\u001b[1;33m\u001b[0m\u001b[0m\n\u001b[0;32m---> 20\u001b[0;31m                 \u001b[0mos\u001b[0m\u001b[1;33m.\u001b[0m\u001b[0mrename\u001b[0m\u001b[1;33m(\u001b[0m\u001b[1;34m\"D:\\\\XML_train\\\\XML _train\\\\\"\u001b[0m\u001b[1;33m+\u001b[0m\u001b[0mname\u001b[0m\u001b[1;33m+\u001b[0m\u001b[1;34m\"\\\\%d.xml\"\u001b[0m\u001b[1;33m%\u001b[0m\u001b[0mk\u001b[0m\u001b[1;33m,\u001b[0m\u001b[1;34m\"D:\\\\XML_train\\\\XML _train\\\\\"\u001b[0m\u001b[1;33m+\u001b[0m\u001b[0mname\u001b[0m\u001b[1;33m+\u001b[0m\u001b[1;34m\"\\\\%d.xml\"\u001b[0m\u001b[1;33m%\u001b[0m\u001b[1;33m(\u001b[0m\u001b[0mj\u001b[0m\u001b[1;33m+\u001b[0m\u001b[0mk\u001b[0m\u001b[1;33m)\u001b[0m\u001b[1;33m)\u001b[0m\u001b[1;33m\u001b[0m\u001b[0m\n\u001b[0m\u001b[1;32m     21\u001b[0m             \u001b[0mj\u001b[0m \u001b[1;33m=\u001b[0m \u001b[0mvar\u001b[0m \u001b[1;33m+\u001b[0m \u001b[0mj\u001b[0m\u001b[1;33m\u001b[0m\u001b[0m\n\u001b[1;32m     22\u001b[0m \u001b[1;31m# DATA_DIR = \"D:\\XML_train\\XML\"\u001b[0m\u001b[1;33m\u001b[0m\u001b[1;33m\u001b[0m\u001b[0m\n",
      "\u001b[0;31mWindowsError\u001b[0m: [Error 2] 系統找不到指定的檔案。"
     ]
    }
   ],
   "source": [
    "import os\n",
    "\n",
    "j = 1\n",
    "\n",
    "DATA_DIR = \"D:\\XML_train\\XML\"\n",
    "file_folder = []\n",
    "for filename in os.listdir(DATA_DIR):\n",
    "    file_folder.append(filename)\n",
    "\n",
    "\n",
    "for i in range(0,len(file_folder),1):\n",
    "    name = file_folder[i]\n",
    "    changedir = \"D:\\\\XML_train\\\\XML _train\\\\\"+name\n",
    "    file_folder_son=[]\n",
    "    for filename in os.listdir(changedir):\n",
    "        file_folder_son.append(filename)\n",
    "        var = len(file_folder_son)\n",
    "        for k in range(1,var+1,1):\n",
    "            if(i!=0):\n",
    "                os.rename(\"D:\\\\XML_train\\\\XML _train\\\\\"+name+\"\\\\%d.xml\"%k,\"D:\\\\XML_train\\\\XML _train\\\\\"+name+\"\\\\%d.xml\"%(j+k))\n",
    "            j = var + j\n",
    "# DATA_DIR = \"D:\\XML_train\\XML\"\n",
    "# changedir = \"D:\\XML_train\\XML\"+file_folder[0]\n",
    "# file_folder = []\n",
    "# for filename in os.listdir(DATA_DIR):\n",
    "#     file_folder.append(filename)\n",
    "\n",
    "\n",
    "# name = file_folder[1]\n"
   ]
  },
  {
   "cell_type": "code",
   "execution_count": 73,
   "metadata": {
    "collapsed": false
   },
   "outputs": [
    {
     "name": "stdout",
     "output_type": "stream",
     "text": [
      "D:\\XML_train\\XMLB1_ZEFFIX 100MG (LAMIVUDINE)_back\n"
     ]
    }
   ],
   "source": [
    "print changedir"
   ]
  },
  {
   "cell_type": "code",
   "execution_count": 74,
   "metadata": {
    "collapsed": true
   },
   "outputs": [],
   "source": [
    "DATA_DIR = \"D:\\XML_train\\XML _train\\B1_ZEFFIX 100MG (LAMIVUDINE)_back\"\n",
    "file_folder = []\n",
    "for filename in os.listdir(DATA_DIR):\n",
    "    file_folder.append(filename)"
   ]
  },
  {
   "cell_type": "code",
   "execution_count": 75,
   "metadata": {
    "collapsed": false
   },
   "outputs": [
    {
     "name": "stdout",
     "output_type": "stream",
     "text": [
      "['1.xml', '10.xml', '11.xml', '12.xml', '13.xml', '14.xml', '15.xml', '16.xml', '17.xml', '18.xml', '19.xml', '2.xml', '20.xml', '21.xml', '22.xml', '23.xml', '24.xml', '25.xml', '26.xml', '27.xml', '28.xml', '29.xml', '3.xml', '30.xml', '31.xml', '32.xml', '33.xml', '34.xml', '35.xml', '36.xml', '37.xml', '38.xml', '39.xml', '4.xml', '40.xml', '41.xml', '42.xml', '43.xml', '44.xml', '45.xml', '46.xml', '47.xml', '48.xml', '49.xml', '5.xml', '50.xml', '51.xml', '52.xml', '53.xml', '54.xml', '55.xml', '56.xml', '57.xml', '58.xml', '59.xml', '6.xml', '60.xml', '61.xml', '62.xml', '63.xml', '64.xml', '65.xml', '66.xml', '67.xml', '68.xml', '69.xml', '7.xml', '70.xml', '71.xml', '72.xml', '8.xml', '9.xml']\n"
     ]
    }
   ],
   "source": [
    "print file_folder"
   ]
  },
  {
   "cell_type": "code",
   "execution_count": 76,
   "metadata": {
    "collapsed": false
   },
   "outputs": [
    {
     "name": "stdout",
     "output_type": "stream",
     "text": [
      "72\n"
     ]
    }
   ],
   "source": [
    "print len(file_folder)"
   ]
  },
  {
   "cell_type": "code",
   "execution_count": 11,
   "metadata": {
    "collapsed": false
   },
   "outputs": [],
   "source": [
    "import os\n",
    "\n",
    "j = 0\n",
    "\n",
    "DATA_DIR = \"D:\\\\XML_train\\\\XML _train\\\\\"\n",
    "file_folder = []\n",
    "for filename in os.listdir(DATA_DIR):\n",
    "    file_folder.append(filename)\n",
    "\n",
    "\n",
    "for i in range(0,len(file_folder),1):\n",
    "    name = file_folder[i]\n",
    "    changedir = \"D:\\\\XML_train\\\\XML _train\\\\\"+name\n",
    "    file_folder_son=[]\n",
    "    for filename in os.listdir(changedir):\n",
    "        file_folder_son.append(filename)\n",
    "\n",
    "    var = len(file_folder_son)\n",
    "\n",
    "    for k in range(1,var+1,1):\n",
    "          if(i!=0):\n",
    "                os.rename(\"D:\\\\XML_train\\\\XML _train\\\\\"+name+\"\\\\%d.xml\"%k,\"D:\\\\XML_train\\\\XML _train\\\\\"+name+\"\\\\%d.xml\"%(j+k))\n",
    "    j = var + j"
   ]
  },
  {
   "cell_type": "code",
   "execution_count": null,
   "metadata": {
    "collapsed": true
   },
   "outputs": [],
   "source": [
    "import os\n",
    "for i in range()\n",
    "os.rename(\"D:\\\\XML_train\\\\XML _train\\\\\"+name+\"\\\\%d.xml\"%k,\"D:\\\\XML_train\\\\XML _train\\\\\"+name+\"\\\\%d.xml\"%(j+k))\n"
   ]
  }
 ],
 "metadata": {
  "anaconda-cloud": {},
  "kernelspec": {
   "display_name": "Python [conda root]",
   "language": "python",
   "name": "conda-root-py"
  },
  "language_info": {
   "codemirror_mode": {
    "name": "ipython",
    "version": 2
   },
   "file_extension": ".py",
   "mimetype": "text/x-python",
   "name": "python",
   "nbconvert_exporter": "python",
   "pygments_lexer": "ipython2",
   "version": "2.7.12"
  }
 },
 "nbformat": 4,
 "nbformat_minor": 1
}
